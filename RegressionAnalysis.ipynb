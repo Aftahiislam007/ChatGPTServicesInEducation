{
 "cells": [
  {
   "cell_type": "code",
   "execution_count": 1,
   "metadata": {},
   "outputs": [],
   "source": [
    "#import the relevant libraries\n",
    "\n",
    "\n",
    "import numpy as np\n",
    "import matplotlib.pyplot as plt\n",
    "import pandas as pd\n",
    "import seaborn as sns\n",
    "from sklearn.linear_model import LogisticRegression\n",
    "from sklearn.model_selection import train_test_split\n",
    "from sklearn.metrics import confusion_matrix, accuracy_score\n",
    "%matplotlib inline\n",
    "import warnings #to remove the warnings\n",
    "warnings.filterwarnings('ignore')"
   ]
  },
  {
   "cell_type": "code",
   "execution_count": 2,
   "metadata": {},
   "outputs": [
    {
     "data": {
      "text/html": [
       "<div>\n",
       "<style scoped>\n",
       "    .dataframe tbody tr th:only-of-type {\n",
       "        vertical-align: middle;\n",
       "    }\n",
       "\n",
       "    .dataframe tbody tr th {\n",
       "        vertical-align: top;\n",
       "    }\n",
       "\n",
       "    .dataframe thead th {\n",
       "        text-align: right;\n",
       "    }\n",
       "</style>\n",
       "<table border=\"1\" class=\"dataframe\">\n",
       "  <thead>\n",
       "    <tr style=\"text-align: right;\">\n",
       "      <th></th>\n",
       "      <th>Timestamp</th>\n",
       "      <th>Email</th>\n",
       "      <th>Full Name</th>\n",
       "      <th>Profession</th>\n",
       "      <th>Academic Level</th>\n",
       "      <th>Usage Time</th>\n",
       "      <th>Quality of Learning</th>\n",
       "      <th>Response Accuracy and Reliability</th>\n",
       "      <th>Reducing Direct Teacher Interaction</th>\n",
       "      <th>Reliability Issues</th>\n",
       "      <th>Responses Without Delays</th>\n",
       "      <th>Topics Understanding Confidence</th>\n",
       "      <th>Adaptation of User-specific Needs</th>\n",
       "      <th>Maximizing efficiency</th>\n",
       "      <th>Providing Training</th>\n",
       "    </tr>\n",
       "  </thead>\n",
       "  <tbody>\n",
       "    <tr>\n",
       "      <th>count</th>\n",
       "      <td>35</td>\n",
       "      <td>35</td>\n",
       "      <td>35</td>\n",
       "      <td>35</td>\n",
       "      <td>35</td>\n",
       "      <td>35</td>\n",
       "      <td>35</td>\n",
       "      <td>35</td>\n",
       "      <td>35</td>\n",
       "      <td>35</td>\n",
       "      <td>35</td>\n",
       "      <td>35</td>\n",
       "      <td>35</td>\n",
       "      <td>35</td>\n",
       "      <td>35</td>\n",
       "    </tr>\n",
       "    <tr>\n",
       "      <th>unique</th>\n",
       "      <td>35</td>\n",
       "      <td>35</td>\n",
       "      <td>35</td>\n",
       "      <td>3</td>\n",
       "      <td>3</td>\n",
       "      <td>4</td>\n",
       "      <td>4</td>\n",
       "      <td>4</td>\n",
       "      <td>5</td>\n",
       "      <td>5</td>\n",
       "      <td>5</td>\n",
       "      <td>5</td>\n",
       "      <td>4</td>\n",
       "      <td>5</td>\n",
       "      <td>5</td>\n",
       "    </tr>\n",
       "    <tr>\n",
       "      <th>top</th>\n",
       "      <td>1/5/2025 1:45:46</td>\n",
       "      <td>mdnishadalhasan@gmail.com</td>\n",
       "      <td>Md. Nishad-Al-Hasan</td>\n",
       "      <td>Student</td>\n",
       "      <td>Graduate</td>\n",
       "      <td>Daily</td>\n",
       "      <td>Agree</td>\n",
       "      <td>Neutral</td>\n",
       "      <td>Agree</td>\n",
       "      <td>Neutral</td>\n",
       "      <td>Frequent</td>\n",
       "      <td>Agree</td>\n",
       "      <td>Agree</td>\n",
       "      <td>Neutral</td>\n",
       "      <td>Very Frequent</td>\n",
       "    </tr>\n",
       "    <tr>\n",
       "      <th>freq</th>\n",
       "      <td>1</td>\n",
       "      <td>1</td>\n",
       "      <td>1</td>\n",
       "      <td>24</td>\n",
       "      <td>15</td>\n",
       "      <td>16</td>\n",
       "      <td>22</td>\n",
       "      <td>16</td>\n",
       "      <td>14</td>\n",
       "      <td>12</td>\n",
       "      <td>14</td>\n",
       "      <td>22</td>\n",
       "      <td>18</td>\n",
       "      <td>12</td>\n",
       "      <td>14</td>\n",
       "    </tr>\n",
       "  </tbody>\n",
       "</table>\n",
       "</div>"
      ],
      "text/plain": [
       "               Timestamp                      Email            Full Name  \\\n",
       "count                 35                         35                   35   \n",
       "unique                35                         35                   35   \n",
       "top     1/5/2025 1:45:46  mdnishadalhasan@gmail.com  Md. Nishad-Al-Hasan   \n",
       "freq                   1                          1                    1   \n",
       "\n",
       "       Profession Academic Level Usage Time Quality of Learning  \\\n",
       "count          35             35         35                  35   \n",
       "unique          3              3          4                   4   \n",
       "top       Student       Graduate      Daily               Agree   \n",
       "freq           24             15         16                  22   \n",
       "\n",
       "       Response Accuracy and Reliability Reducing Direct Teacher Interaction  \\\n",
       "count                                 35                                  35   \n",
       "unique                                 4                                   5   \n",
       "top                              Neutral                               Agree   \n",
       "freq                                  16                                  14   \n",
       "\n",
       "       Reliability Issues Responses Without Delays  \\\n",
       "count                  35                       35   \n",
       "unique                  5                        5   \n",
       "top               Neutral                 Frequent   \n",
       "freq                   12                       14   \n",
       "\n",
       "       Topics Understanding Confidence  Adaptation of User-specific Needs   \\\n",
       "count                                35                                 35   \n",
       "unique                                5                                  4   \n",
       "top                               Agree                              Agree   \n",
       "freq                                 22                                 18   \n",
       "\n",
       "       Maximizing efficiency Providing Training  \n",
       "count                     35                 35  \n",
       "unique                     5                  5  \n",
       "top                  Neutral      Very Frequent  \n",
       "freq                      12                 14  "
      ]
     },
     "execution_count": 2,
     "metadata": {},
     "output_type": "execute_result"
    }
   ],
   "source": [
    "df= pd.read_csv('Database/ChatGPT_ Quality of AI-Driven Services in Education  (Responses) - Form Responses 1 (1).csv') #read the dataset\n",
    "#Explore the dataset\n",
    "df.head()\n",
    "df.describe() #To know more about the dataset"
   ]
  },
  {
   "cell_type": "code",
   "execution_count": 3,
   "metadata": {},
   "outputs": [
    {
     "name": "stdout",
     "output_type": "stream",
     "text": [
      "Number of null values in the data set are -  0\n"
     ]
    }
   ],
   "source": [
    "#Check for null entries\n",
    "print(\"Number of null values in the data set are - \",df.isnull().values.any().sum())"
   ]
  },
  {
   "cell_type": "code",
   "execution_count": 4,
   "metadata": {},
   "outputs": [],
   "source": [
    "#Replace yes and no entries in target to 1 and 0 repsectively\n",
    "df=df.replace({'Profession':{'Student':2, 'Corporate employee':1}})\n",
    "df=df.replace({'Academic Level':{'Graduate':2, 'Undergraduate':1}})\n",
    "df=df.replace({'Usage Time':{'Weekly':3, 'Daily':2, 'Occasionally':1}})\n",
    "df=df.replace({'Quality of Learning':{'Strongly Disagree':5, 'Disagree':4, 'Neutral':3, 'Agree':2, 'Strongly Agree':1}})\n",
    "df=df.replace({'Response Accuracy and Reliability':{'Strongly Disagree':5, 'Disagree':4, 'Neutral':3, 'Agree':2, 'Strongly Agree':1}})\n",
    "df=df.replace({'Reducing Direct Teacher Interaction':{'Strongly Disagree':5, 'Disagree':4, 'Neutral':3, 'Agree':2, 'Strongly Agree':1}})\n",
    "df=df.replace({'Reliability Issues':{'Very Rare':5, 'Rare':4, 'Neutral':3, 'Frequent':2, 'Very Frequent':1}})\n",
    "df=df.replace({'Responses Without Delays':{'Very Rare':5, 'Rare':4, 'Neutral':3, 'Frequent':2, 'Very Frequent':1}})\n",
    "df=df.replace({'Topics Understanding Confidence':{'Strongly Disagree':5, 'Disagree':4, 'Neutral':3, 'Agree':2, 'Strongly Agree':1}})\n",
    "df=df.replace({'Adaptation of User-specific Needs':{'Strongly Disagree':5, 'Disagree':4, 'Neutral':3, 'Agree':2, 'Strongly Agree':1}})\n",
    "df=df.replace({'Maximizing efficiency':{'Very Rare':5, 'Rare':4, 'Neutral':3, 'Frequent':2, 'Very Frequent':1}})\n",
    "df=df.replace({'Providing Training':{'Very Rare':5, 'Rare':4, 'Neutral':3, 'Frequent':2, 'Very Frequent':1}})"
   ]
  },
  {
   "cell_type": "code",
   "execution_count": 6,
   "metadata": {},
   "outputs": [
    {
     "ename": "TypeError",
     "evalue": "boxplot() takes from 0 to 1 positional arguments but 2 were given",
     "output_type": "error",
     "traceback": [
      "\u001b[1;31m---------------------------------------------------------------------------\u001b[0m",
      "\u001b[1;31mTypeError\u001b[0m                                 Traceback (most recent call last)",
      "Cell \u001b[1;32mIn[6], line 3\u001b[0m\n\u001b[0;32m      1\u001b[0m \u001b[38;5;66;03m#Boxplot to visualize outliers in-depth column\u001b[39;00m\n\u001b[0;32m      2\u001b[0m \u001b[38;5;66;03m# sns.boxplot(df['Profession', 'Academic Level', 'Usage Time', 'Quality of Learning', 'Response Accuracy and Reliability', 'Reducing Direct Teacher Interaction', 'Reliability Issues', 'Responses Without Delays', 'Topics Understanding Confidence', 'Adaptation of User-specific Needs', 'Maximizing efficiency', 'Providing Training'])\u001b[39;00m\n\u001b[1;32m----> 3\u001b[0m \u001b[43msns\u001b[49m\u001b[38;5;241;43m.\u001b[39;49m\u001b[43mboxplot\u001b[49m\u001b[43m(\u001b[49m\u001b[43mdf\u001b[49m\u001b[43m[\u001b[49m\u001b[38;5;124;43m'\u001b[39;49m\u001b[38;5;124;43mProfession\u001b[39;49m\u001b[38;5;124;43m'\u001b[39;49m\u001b[43m]\u001b[49m\u001b[43m,\u001b[49m\u001b[43m \u001b[49m\u001b[43mdf\u001b[49m\u001b[43m[\u001b[49m\u001b[38;5;124;43m'\u001b[39;49m\u001b[38;5;124;43mAcademic Level\u001b[39;49m\u001b[38;5;124;43m'\u001b[39;49m\u001b[43m]\u001b[49m\u001b[43m)\u001b[49m\n",
      "\u001b[1;31mTypeError\u001b[0m: boxplot() takes from 0 to 1 positional arguments but 2 were given"
     ]
    }
   ],
   "source": [
    "#Boxplot to visualize outliers in-depth column\n",
    "# sns.boxplot(df['Profession', 'Academic Level', 'Usage Time', 'Quality of Learning', 'Response Accuracy and Reliability', 'Reducing Direct Teacher Interaction', 'Reliability Issues', 'Responses Without Delays', 'Topics Understanding Confidence', 'Adaptation of User-specific Needs', 'Maximizing efficiency', 'Providing Training'])\n",
    "sns.boxplot(df['Profession'], df['Academic Level'])"
   ]
  }
 ],
 "metadata": {
  "kernelspec": {
   "display_name": "my_env",
   "language": "python",
   "name": "python3"
  },
  "language_info": {
   "codemirror_mode": {
    "name": "ipython",
    "version": 3
   },
   "file_extension": ".py",
   "mimetype": "text/x-python",
   "name": "python",
   "nbconvert_exporter": "python",
   "pygments_lexer": "ipython3",
   "version": "3.12.1"
  }
 },
 "nbformat": 4,
 "nbformat_minor": 2
}
